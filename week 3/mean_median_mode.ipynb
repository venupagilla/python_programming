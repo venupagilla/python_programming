{
 "cells": [
  {
   "cell_type": "code",
   "execution_count": 14,
   "metadata": {},
   "outputs": [
    {
     "name": "stdout",
     "output_type": "stream",
     "text": [
      "56.3\n",
      "66.0\n",
      "88\n"
     ]
    }
   ],
   "source": [
    "def mean(arr):\n",
    "    return sum(arr)/len(arr)\n",
    "\n",
    "def median(arr):\n",
    "    sorted_arr=sorted(arr)\n",
    "    mid=len(sorted_arr)//2\n",
    "    if len(sorted_arr)%2==0:\n",
    "        return (sorted_arr[mid]+sorted_arr[mid-1])/2\n",
    "    else:\n",
    "        return sorted_arr[mid]\n",
    "    \n",
    "def mode(arr):\n",
    "    f={}\n",
    "    for i in arr:\n",
    "        if i in f:\n",
    "            f[i]+=1\n",
    "        else:\n",
    "            f[i]=1\n",
    "    max_freq = max(f.values())\n",
    "    \n",
    "    # Find all numbers that have the maximum frequency\n",
    "    mode = [key for key, value in f.items() if value == max_freq]\n",
    "    \n",
    "    # If all elements are unique, return a message or None\n",
    "    if max_freq == 1:\n",
    "        return \"No mode found (all values are unique)\"\n",
    "    \n",
    "    return mode[0]\n",
    "    \n",
    "arr=[23,88,17,84,98,55,22,11,77,88]\n",
    "print(mean(arr))\n",
    "print(median(arr))\n",
    "print(mode(arr))"
   ]
  },
  {
   "cell_type": "code",
   "execution_count": 16,
   "metadata": {},
   "outputs": [
    {
     "name": "stdout",
     "output_type": "stream",
     "text": [
      "mean :  56.3\n",
      "median :  66.0\n",
      "mode :  88\n"
     ]
    }
   ],
   "source": [
    "#another way using statistics library\n",
    "import statistics\n",
    "def mean1(arr):\n",
    "    return statistics.mean(arr)\n",
    "def median1(arr):\n",
    "    return statistics.median(arr)\n",
    "def mode1(arr):\n",
    "    return statistics.mode(arr)\n",
    "arr=[23,88,17,84,98,55,22,11,77,88]\n",
    "print(\"mean : \",mean1(arr))\n",
    "print(\"median : \",median1(arr))\n",
    "print(\"mode : \",mode1(arr))"
   ]
  },
  {
   "cell_type": "code",
   "execution_count": null,
   "metadata": {},
   "outputs": [],
   "source": []
  }
 ],
 "metadata": {
  "kernelspec": {
   "display_name": "Python 3",
   "language": "python",
   "name": "python3"
  },
  "language_info": {
   "codemirror_mode": {
    "name": "ipython",
    "version": 3
   },
   "file_extension": ".py",
   "mimetype": "text/x-python",
   "name": "python",
   "nbconvert_exporter": "python",
   "pygments_lexer": "ipython3",
   "version": "3.7.1"
  }
 },
 "nbformat": 4,
 "nbformat_minor": 2
}
