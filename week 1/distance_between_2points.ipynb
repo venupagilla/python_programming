{
 "cells": [
  {
   "cell_type": "code",
   "execution_count": null,
   "metadata": {},
   "outputs": [],
   "source": [
    "import math\n",
    "def calc(x1,y1,x2,y2):\n",
    "    return math.sqrt((x2-x1)**2+(y2-y1)**2)\n",
    "\n",
    "x1=10\n",
    "y1=20\n",
    "x2=56\n",
    "y2=50\n",
    "print(f\"The distance between points ({x1},{y1}) and ({x2,y2}) is {int(calc(x1,y1,x2,y2))}\")"
   ]
  }
 ],
 "metadata": {
  "kernelspec": {
   "display_name": "Python 3",
   "language": "python",
   "name": "python3"
  },
  "language_info": {
   "codemirror_mode": {
    "name": "ipython",
    "version": 3
   },
   "file_extension": ".py",
   "mimetype": "text/x-python",
   "name": "python",
   "nbconvert_exporter": "python",
   "pygments_lexer": "ipython3",
   "version": "3.7.1"
  }
 },
 "nbformat": 4,
 "nbformat_minor": 2
}
