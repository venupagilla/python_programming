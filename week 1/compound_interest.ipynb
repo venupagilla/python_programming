{
 "cells": [
  {
   "cell_type": "code",
   "execution_count": null,
   "metadata": {},
   "outputs": [],
   "source": [
    "def calc(princ,interest,time):\n",
    "    rate=interest/100\n",
    "\n",
    "    return princ*(1+rate)**time\n",
    "\n",
    "principal=100000\n",
    "interest=12\n",
    "time=3\n",
    "print(f\"compund interest is {calc(principal,interest,time)}\")"
   ]
  }
 ],
 "metadata": {
  "kernelspec": {
   "display_name": "Python 3",
   "language": "python",
   "name": "python3"
  },
  "language_info": {
   "codemirror_mode": {
    "name": "ipython",
    "version": 3
   },
   "file_extension": ".py",
   "mimetype": "text/x-python",
   "name": "python",
   "nbconvert_exporter": "python",
   "pygments_lexer": "ipython3",
   "version": "3.7.1"
  }
 },
 "nbformat": 4,
 "nbformat_minor": 2
}
