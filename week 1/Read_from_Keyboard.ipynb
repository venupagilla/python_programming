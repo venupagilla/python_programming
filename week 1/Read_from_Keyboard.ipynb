{
 "cells": [
  {
   "cell_type": "code",
   "execution_count": 2,
   "metadata": {},
   "outputs": [
    {
     "name": "stdout",
     "output_type": "stream",
     "text": [
      "Enter your name : hi\n",
      "Enter your adress : hi\n",
      "enter your email id : i\n",
      "enter your phone number : 45\n",
      "Below are the entered details\n",
      "name is hi\n",
      "address is hi\n",
      "email is i\n",
      "phone number is 45\n"
     ]
    }
   ],
   "source": [
    "#Reading input from keyboard\n",
    "name=input(\"Enter your name : \")\n",
    "address=input(\"Enter your adress : \")\n",
    "email=input(\"enter your email id : \")\n",
    "phone_no=int(input(\"enter your phone number : \"))\n",
    "\n",
    "#printing the inserted values\n",
    "print(\"Below are the entered details\")\n",
    "print(f\"name is {name}\\naddress is {address}\\nemail is {email}\\nphone number is {phone_no}\")"
   ]
  },
  {
   "cell_type": "code",
   "execution_count": null,
   "metadata": {},
   "outputs": [],
   "source": []
  }
 ],
 "metadata": {
  "kernelspec": {
   "display_name": "Python 3",
   "language": "python",
   "name": "python3"
  },
  "language_info": {
   "codemirror_mode": {
    "name": "ipython",
    "version": 3
   },
   "file_extension": ".py",
   "mimetype": "text/x-python",
   "name": "python",
   "nbconvert_exporter": "python",
   "pygments_lexer": "ipython3",
   "version": "3.7.1"
  }
 },
 "nbformat": 4,
 "nbformat_minor": 2
}
