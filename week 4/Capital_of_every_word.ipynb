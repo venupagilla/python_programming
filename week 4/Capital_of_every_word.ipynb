{
 "cells": [
  {
   "cell_type": "code",
   "execution_count": null,
   "metadata": {},
   "outputs": [],
   "source": [
    "letter=input(\"Enter the sentence you want to capitalize : \")\n",
    "new_letter=\"\"\n",
    "for i in range(len(letter)):\n",
    "    if letter[i-1] == \" \" or i==0:\n",
    "        new_letter+=letter[i].upper()\n",
    "    else:\n",
    "        new_letter+=letter[i]\n",
    "print(new_letter)"
   ]
  }
 ],
 "metadata": {
  "kernelspec": {
   "display_name": "Python 3",
   "language": "python",
   "name": "python3"
  },
  "language_info": {
   "codemirror_mode": {
    "name": "ipython",
    "version": 3
   },
   "file_extension": ".py",
   "mimetype": "text/x-python",
   "name": "python",
   "nbconvert_exporter": "python",
   "pygments_lexer": "ipython3",
   "version": "3.7.1"
  }
 },
 "nbformat": 4,
 "nbformat_minor": 2
}
