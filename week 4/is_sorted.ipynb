{
 "cells": [
  {
   "cell_type": "code",
   "execution_count": 17,
   "metadata": {
    "scrolled": true
   },
   "outputs": [
    {
     "name": "stdout",
     "output_type": "stream",
     "text": [
      "True\n",
      "False\n"
     ]
    }
   ],
   "source": [
    "def is_sorted(l):\n",
    "    sorted=True\n",
    "    \n",
    "    for i in range(1,len(l)):\n",
    "        if(l[i]<l[i-1]):\n",
    "            sorted=False\n",
    "    return sorted\n",
    "#list of ascending order\n",
    "l=[10,20,30,40,50,60]\n",
    "print(is_sorted(l))\n",
    "\n",
    "#list that is not in ascending order\n",
    "l2=[50,10,48,44,56]\n",
    "print(is_sorted(l2))\n",
    "        "
   ]
  }
 ],
 "metadata": {
  "kernelspec": {
   "display_name": "Python 3",
   "language": "python",
   "name": "python3"
  },
  "language_info": {
   "codemirror_mode": {
    "name": "ipython",
    "version": 3
   },
   "file_extension": ".py",
   "mimetype": "text/x-python",
   "name": "python",
   "nbconvert_exporter": "python",
   "pygments_lexer": "ipython3",
   "version": "3.7.1"
  }
 },
 "nbformat": 4,
 "nbformat_minor": 2
}
