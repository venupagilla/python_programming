{
 "cells": [
  {
   "cell_type": "code",
   "execution_count": 3,
   "metadata": {},
   "outputs": [
    {
     "name": "stdout",
     "output_type": "stream",
     "text": [
      "False\n",
      "True\n"
     ]
    }
   ],
   "source": [
    "def has_duplicates(l):\n",
    "    l2=set(l)\n",
    "    if(len(l)-len(l2)==0):\n",
    "        return False\n",
    "    else:\n",
    "        return True\n",
    "#list with no duplicates\n",
    "l1=[10,20,30,40,50]\n",
    "print(has_duplicates(l1))\n",
    "\n",
    "#list with duplicates\n",
    "l2=[10,20,40,50,60,10]\n",
    "print(has_duplicates(l2))"
   ]
  }
 ],
 "metadata": {
  "kernelspec": {
   "display_name": "Python 3",
   "language": "python",
   "name": "python3"
  },
  "language_info": {
   "codemirror_mode": {
    "name": "ipython",
    "version": 3
   },
   "file_extension": ".py",
   "mimetype": "text/x-python",
   "name": "python",
   "nbconvert_exporter": "python",
   "pygments_lexer": "ipython3",
   "version": "3.7.1"
  }
 },
 "nbformat": 4,
 "nbformat_minor": 2
}
