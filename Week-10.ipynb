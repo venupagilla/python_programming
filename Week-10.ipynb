{
 "cells": [
  {
   "cell_type": "code",
   "execution_count": null,
   "metadata": {},
   "outputs": [],
   "source": [
    "# 1. Import Pandas and Plotpy and explore their functionalities.\n",
    "# •\tPandas\n",
    "# Import panda\n",
    "#      Or\n",
    "#     Import pandas as pd\n",
    "import pandas as pd\n",
    "a=[1,2,3]\n",
    "s=pd.series(a)\n",
    "print(s)"
   ]
  },
  {
   "cell_type": "code",
   "execution_count": null,
   "metadata": {},
   "outputs": [],
   "source": [
    "# Labels:\n",
    "import pandas as pd \n",
    "a=[1,2,3] \n",
    "s=pd.Series(a) \n",
    "print(s[0])"
   ]
  },
  {
   "cell_type": "code",
   "execution_count": null,
   "metadata": {},
   "outputs": [],
   "source": [
    "# Creating Labels:\n",
    "import pandas as pd\n",
    "a=[1,2,3] \n",
    "s=pd.Series(a,index= 'a','b','c')\n",
    "print(s)"
   ]
  },
  {
   "cell_type": "code",
   "execution_count": null,
   "metadata": {},
   "outputs": [],
   "source": [
    "# •\tPlotpy\n",
    "# import matplotlib.pyplot as plt\n",
    "import matplotlib.pyplot as plt\n",
    "import numpy as np\n",
    "xpoints = np.array([0, 6])\n",
    "ypoints = np.array([0, 250])\n",
    "plt.plot(xpoints, ypoints)\n",
    "plt.show()"
   ]
  },
  {
   "cell_type": "code",
   "execution_count": null,
   "metadata": {},
   "outputs": [],
   "source": [
    "# 2. Python Data Frame \n",
    "# DataFrames:\n",
    "import pandas as pd \n",
    "a={\"Fruits\":[\"apple\",\"mango\",\"kiwi\"], \"Qty.\":[1,2,3], \"color\":[\"red\",\"Yellow\",\"Rust\"] } \n",
    "df=pd.DataFrame(a) \n",
    "print(df)"
   ]
  },
  {
   "cell_type": "code",
   "execution_count": null,
   "metadata": {},
   "outputs": [],
   "source": [
    "# Index in DataFrame:\n",
    "import pandas as pd\n",
    "a={\n",
    "\"Fruits\":[\"apple\",\"mango\",\"kiwi\"],\n",
    "\"Qty\":[1,2,3]\n",
    "}\n",
    "df=pd.DataFrame(a,index=[\"x\",\"y\",\"z\"])\n",
    "print(df)"
   ]
  },
  {
   "cell_type": "code",
   "execution_count": null,
   "metadata": {},
   "outputs": [],
   "source": [
    "# Loc :\n",
    "import pandas as pd\n",
    "a={\n",
    "\"Fruits\":[\"apple\",\"mango\",\"kiwi\"],\n",
    "\"Qty\":[1,2,3]\n",
    "}\n",
    "df=pd.DataFrame(a,index=[\"x\",\"y\",\"z\"])"
   ]
  }
 ],
 "metadata": {
  "kernelspec": {
   "display_name": "Python 3",
   "language": "python",
   "name": "python3"
  },
  "language_info": {
   "name": "python",
   "version": "3.12.7"
  }
 },
 "nbformat": 4,
 "nbformat_minor": 2
}
