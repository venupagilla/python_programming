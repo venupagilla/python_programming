{
 "cells": [
  {
   "cell_type": "code",
   "execution_count": null,
   "metadata": {},
   "outputs": [],
   "source": [
    "# 1. Import SciPy and explore their functionalities.\n",
    "from scipy import special\n",
    "a = special.exp10(3)\n",
    "print(a)\n",
    "b = special.exp2(3)\n",
    "print(b)\n",
    "c = special.sindg(90)\n",
    "print(c)\n",
    "d = special.cosdg(45)\n",
    "print(d)"
   ]
  },
  {
   "cell_type": "code",
   "execution_count": null,
   "metadata": {},
   "outputs": [],
   "source": [
    "# 2. Write a GUI program to create a window wizard having two text labels, two text\n",
    "# fields and two buttons as Submit and Reset.\n",
    "import tkinter as tk\n",
    "\n",
    "def submit():\n",
    "    value1 = entry1.get()\n",
    "    value2 = entry2.get()\n",
    "    value3 = entry3.get()\n",
    "    label_result.config(text=f\"Value 1: {value1}\\nValue 2: {value2}\\nValue 3: {value3}\")\n",
    "\n",
    "def reset():\n",
    "    entry1.delete(0, tk.END)\n",
    "    entry2.delete(0, tk.END)\n",
    "    entry3.delete(0, tk.END)\n",
    "    label_result.config(text=\"Result:\")\n",
    "\n",
    "# Create the main window\n",
    "root = tk.Tk()\n",
    "root.geometry(\"300x300\")\n",
    "root.title(\"Window Wizard\")\n",
    "\n",
    "# Create labels\n",
    "label1 = tk.Label(root, text=\"Enter Value 1:\")\n",
    "label2 = tk.Label(root, text=\"Enter Value 2:\")\n",
    "label3 = tk.Label(root, text=\"Enter Value 3:\")\n",
    "\n",
    "# Create entry fields\n",
    "entry1 = tk.Entry(root)\n",
    "entry2 = tk.Entry(root)\n",
    "entry3 = tk.Entry(root)\n",
    "\n",
    "# Create buttons\n",
    "submit_button = tk.Button(root, text=\"Submit\", command=submit)\n",
    "reset_button = tk.Button(root, text=\"Reset\", command=reset)\n",
    "\n",
    "# Arrange widgets using grid layout\n",
    "label1.grid(row=0, column=0, padx=10, pady=5)\n",
    "entry1.grid(row=0, column=1, padx=10, pady=5)\n",
    "label2.grid(row=1, column=0, padx=10, pady=5)\n",
    "entry2.grid(row=1, column=1, padx=10, pady=5)\n",
    "label3.grid(row=2, column=0, padx=10, pady=5)\n",
    "entry3.grid(row=2, column=1, padx=10, pady=5)\n",
    "submit_button.grid(row=3, column=0, columnspan=2, pady=10)\n",
    "reset_button.grid(row=4, column=0, columnspan=2, pady=10)\n",
    "\n",
    "label_result = tk.Label(root, text=\"Result:\")\n",
    "label_result.grid(row=5, column=0, columnspan=2, pady=5)\n",
    "\n",
    "# Start the main event loop\n",
    "root.mainloop()\n"
   ]
  }
 ],
 "metadata": {
  "kernelspec": {
   "display_name": "Python 3",
   "language": "python",
   "name": "python3"
  },
  "language_info": {
   "name": "python",
   "version": "3.12.7"
  }
 },
 "nbformat": 4,
 "nbformat_minor": 2
}
