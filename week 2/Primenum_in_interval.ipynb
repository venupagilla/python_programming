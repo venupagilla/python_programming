{
 "cells": [
  {
   "cell_type": "code",
   "execution_count": null,
   "metadata": {},
   "outputs": [],
   "source": [
    "n1=int(input(\"Enter the interval start : \"))\n",
    "n2=int(input(\"Enter the interval end : \"))\n",
    "for i in range(n1,n2+1):\n",
    "    isprime=True\n",
    "    for j in range(2,i):\n",
    "        if i % j==0:\n",
    "            isprime=False\n",
    "            break\n",
    "    if isprime and i!=1:\n",
    "        print(i)"
   ]
  }
 ],
 "metadata": {
  "kernelspec": {
   "display_name": "Python 3",
   "language": "python",
   "name": "python3"
  },
  "language_info": {
   "codemirror_mode": {
    "name": "ipython",
    "version": 3
   },
   "file_extension": ".py",
   "mimetype": "text/x-python",
   "name": "python",
   "nbconvert_exporter": "python",
   "pygments_lexer": "ipython3",
   "version": "3.7.1"
  }
 },
 "nbformat": 4,
 "nbformat_minor": 2
}
