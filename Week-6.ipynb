{
 "cells": [
  {
   "cell_type": "code",
   "execution_count": 2,
   "metadata": {},
   "outputs": [
    {
     "name": "stdout",
     "output_type": "stream",
     "text": [
      "Division by zero is not accepted\n"
     ]
    }
   ],
   "source": [
    "# 1. Write a program that detects an Exception\n",
    "try:\n",
    "    num1=int(input(\"enter an number\"))\n",
    "    num2=int(input(\"enter other number\"))\n",
    "    result=num1/num2\n",
    "    print(\"result:\",result)\n",
    "except ZeroDivisionError:\n",
    "    print(\"Division by zero is not accepted\")\n",
    "except ValueError:\n",
    "    print(\"enter only integers\")\n",
    "except Exception as e:\n",
    "    print(\"an error occured\",str(e))\n"
   ]
  },
  {
   "cell_type": "code",
   "execution_count": 3,
   "metadata": {},
   "outputs": [
    {
     "name": "stdout",
     "output_type": "stream",
     "text": [
      "not a valid age\n"
     ]
    }
   ],
   "source": [
    "# 2. Write a program that raise an Exception ( divide by zero error,voter’s age validity )\n",
    "def voter_age(age):\n",
    "    try:\n",
    "        num=int(age)\n",
    "        if(num>18):\n",
    "            print(\"valid age\")\n",
    "        elif(num<18):\n",
    "            print(\"not a valid age\")\n",
    "    except Exception as e:\n",
    "        print(\"enter only integers:\",str(e))\n",
    "num=input(\"enter the age\")\n",
    "voter_age(num)\n"
   ]
  },
  {
   "cell_type": "code",
   "execution_count": 4,
   "metadata": {},
   "outputs": [
    {
     "name": "stdout",
     "output_type": "stream",
     "text": [
      "valid number\n"
     ]
    }
   ],
   "source": [
    "# 3. Write a program that raise an Exception as string(), student mark range validation\n",
    "def students_mark(marks):\n",
    "    try:\n",
    "        num=int(marks)\n",
    "        if(num>0):\n",
    "            print(\"valid number\")\n",
    "        elif(num<0 or num==0):\n",
    "            print(\"not valid\")\n",
    "    except Exception as e:\n",
    "        print(\"enter only integers :\",str(e))\n",
    "num=input(\"enter students marks\")\n",
    "students_mark(num)\n"
   ]
  },
  {
   "cell_type": "code",
   "execution_count": 5,
   "metadata": {},
   "outputs": [
    {
     "name": "stdout",
     "output_type": "stream",
     "text": [
      "result :  0.6292134831460674\n",
      "division successful\n",
      "program completed successfully\n"
     ]
    }
   ],
   "source": [
    "# 4. Use the structure of exception handling all general purpose exceptions.\n",
    "try:\n",
    "    num1=int(input(\"enter a number\"))\n",
    "    num2=int(input(\"enter other number\"))\n",
    "    result=num1/num2\n",
    "    print(\"result : \",result)\n",
    "except Exception as e:\n",
    "    print(\"error occured :\",str(e))\n",
    "else:\n",
    "    print(\"division successful\")\n",
    "finally:\n",
    "    print(\"program completed successfully\")\n"
   ]
  },
  {
   "cell_type": "code",
   "execution_count": 8,
   "metadata": {},
   "outputs": [
    {
     "name": "stdout",
     "output_type": "stream",
     "text": [
      "phone number is not valid\n",
      "id is correct\n"
     ]
    }
   ],
   "source": [
    "# 5. Write a python code to read a phone number and email-id from the user and validate it for correctness\n",
    "import re\n",
    "def Validate_phone(phone):\n",
    "    pattern=r'^\\d{10}$'\n",
    "    if re.match(pattern,phone):\n",
    "        return True\n",
    "    else:\n",
    "        return False\n",
    "try:\n",
    "    phone=input(\"enter phone number\")\n",
    "    if Validate_phone(phone):\n",
    "        print(\"phone number is valid\")\n",
    "    else:\n",
    "        print(\"phone number is not valid\")\n",
    "except Exception as e:\n",
    "    print(\"exception : \",str(e))\n",
    "\n",
    "def email_id(id):\n",
    "    pattern=r'^[a-zA-Z0-9._+*-]+@[a-zA-Z0-9.-]+\\.[a-zA-Z]{2,}$'\n",
    "    if re.match(pattern,id):\n",
    "        return True\n",
    "    else:\n",
    "        return False\n",
    "try:\n",
    "    id=input(\"enter your email-id\")\n",
    "    if(email_id(id)):\n",
    "        print(\"id is correct\")\n",
    "    else:\n",
    "        print(\"id is incorrect\")\n",
    "except Exception as e:\n",
    "    print(\"Exception : \",str(e))\n",
    "\n",
    "\n"
   ]
  },
  {
   "cell_type": "code",
   "execution_count": null,
   "metadata": {},
   "outputs": [],
   "source": []
  }
 ],
 "metadata": {
  "kernelspec": {
   "display_name": "Python 3",
   "language": "python",
   "name": "python3"
  },
  "language_info": {
   "codemirror_mode": {
    "name": "ipython",
    "version": 3
   },
   "file_extension": ".py",
   "mimetype": "text/x-python",
   "name": "python",
   "nbconvert_exporter": "python",
   "pygments_lexer": "ipython3",
   "version": "3.12.7"
  }
 },
 "nbformat": 4,
 "nbformat_minor": 2
}
